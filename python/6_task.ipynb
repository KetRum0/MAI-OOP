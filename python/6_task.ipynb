{
 "cells": [
  {
   "cell_type": "markdown",
   "id": "49944faf",
   "metadata": {},
   "source": [
    "# Самостоятельное задание #6\n",
    "\n",
    "\n",
    "### Задание 1\n",
    "\n",
    "\n",
    "Допишите функцию, которая принимает несколько параметров. Первый параметр - словарь, второй параметр - один из ключей данного словаря. Функция должна выводить значение этого ключа."
   ]
  },
  {
   "cell_type": "code",
   "execution_count": 1,
   "id": "3f41a526",
   "metadata": {},
   "outputs": [
    {
     "data": {
      "text/plain": [
       "2"
      ]
     },
     "execution_count": 1,
     "metadata": {},
     "output_type": "execute_result"
    }
   ],
   "source": [
    "# Начните писать код тут\n",
    "def dic(dict, key):\n",
    "    return dict.get(key)\n",
    "\n",
    "abc = {'a': 1, 'b': 2, 'c': 3}\n",
    "dic(abc,'b')"
   ]
  }
 ],
 "metadata": {
  "kernelspec": {
   "display_name": "Python 3.9.13 64-bit",
   "language": "python",
   "name": "python3"
  },
  "language_info": {
   "codemirror_mode": {
    "name": "ipython",
    "version": 3
   },
   "file_extension": ".py",
   "mimetype": "text/x-python",
   "name": "python",
   "nbconvert_exporter": "python",
   "pygments_lexer": "ipython3",
   "version": "3.9.13"
  },
  "vscode": {
   "interpreter": {
    "hash": "38e4c980133664a169aa8c9b4e54fa51de20a94c84b373ca55585a4eccbe0ac1"
   }
  }
 },
 "nbformat": 4,
 "nbformat_minor": 5
}
